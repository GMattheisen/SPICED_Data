{
 "cells": [
  {
   "cell_type": "code",
   "execution_count": 1,
   "metadata": {},
   "outputs": [],
   "source": [
    "import pandas as pd\n",
    "import math\n",
    "import numpy as np\n",
    "import itertools\n",
    "import seaborn as sns\n",
    "import matplotlib.pyplot as plt\n",
    "from sklearn.metrics.pairwise import cosine_similarity\n",
    "from sklearn.decomposition import PCA\n",
    "from sklearn.preprocessing import MinMaxScaler\n",
    "\n",
    "PATH_movies = \"movie_recommendations.xlsx\"\n",
    "movies_df = pd.read_excel(PATH_movies)"
   ]
  },
  {
   "cell_type": "code",
   "execution_count": 2,
   "metadata": {},
   "outputs": [],
   "source": [
    "# produce clean unique index\n",
    "movies_df.sort_values(by=['Name', 'Genre', 'Reviewer'], inplace=True)\n",
    "#clean = movies_df.drop_duplicates().dropna()\n",
    "movies_df['Genre'] = movies_df['Genre'].str.lower()\n",
    "users = movies_df['Reviewer'].unique() # list of unique reviewer\n",
    "\n",
    "long_format_movies = movies_df.groupby(['Genre', 'Reviewer'])['Rating'].mean()\n",
    "wide_format_movies = long_format_movies.unstack(0)\n",
    "wide_format_movies.fillna(0.0, inplace=True) # null values get a 0 rating"
   ]
  },
  {
   "cell_type": "code",
   "execution_count": 3,
   "metadata": {},
   "outputs": [],
   "source": [
    "def cosim(v, w): # calculate cosine similarity\n",
    "    return np.dot(v, w) / math.sqrt(np.dot(v, v) * np.dot(w, w))"
   ]
  },
  {
   "cell_type": "code",
   "execution_count": 4,
   "metadata": {
    "scrolled": true
   },
   "outputs": [
    {
     "name": "stdout",
     "output_type": "stream",
     "text": [
      "('Felipe', 'Helena') 0.41736285205886114\n",
      "('Felipe', 'Matthias') 0.22894205054794922\n",
      "('Felipe', 'Nick') 0.33968311024337877\n",
      "('Felipe', 'Manohar') 0.49965339859670077\n",
      "('Felipe', 'Tom') 0.0\n",
      "('Felipe', 'Kristian') 0.527164619630825\n",
      "('Felipe', 'Julian') 0.0\n",
      "('Felipe', 'Glynis') 0.33968311024337877\n",
      "('Felipe', 'Nicolas') 0.0\n",
      "('Felipe', 'Paul') 0.5272256356506433\n",
      "('Helena', 'Matthias') 0.24429437600537085\n",
      "('Helena', 'Nick') 0.29488391230979427\n",
      "('Helena', 'Manohar') 0.38973343099519797\n",
      "('Helena', 'Tom') 0.06620339266654701\n",
      "('Helena', 'Kristian') 0.50556782044981\n",
      "('Helena', 'Julian') 0.09761906491267601\n",
      "('Helena', 'Glynis') 0.3686048903872428\n",
      "('Helena', 'Nicolas') 0.10425720702853737\n",
      "('Helena', 'Paul') 0.3432692561589696\n",
      "('Matthias', 'Nick') 0.64590434974699\n",
      "('Matthias', 'Manohar') 0.5031419593007852\n",
      "('Matthias', 'Tom') 0.37828645375016023\n",
      "('Matthias', 'Kristian') 0.40814472683650466\n",
      "('Matthias', 'Julian') 0.5577957321646877\n",
      "('Matthias', 'Glynis') 0.3369935737810383\n",
      "('Matthias', 'Nicolas') 0.5957261030921532\n",
      "('Matthias', 'Paul') 0.2241647908078507\n",
      "('Nick', 'Manohar') 0.5030284724122063\n",
      "('Nick', 'Tom') 0.0\n",
      "('Nick', 'Kristian') 0.25166442474422296\n",
      "('Nick', 'Julian') 0.0\n",
      "('Nick', 'Glynis') 0.5\n",
      "('Nick', 'Nicolas') 0.0\n",
      "('Nick', 'Paul') 0.3325950526188697\n",
      "('Manohar', 'Tom') 0.21046366593337404\n",
      "('Manohar', 'Kristian') 0.5381814714158218\n",
      "('Manohar', 'Julian') 0.27981074168711983\n",
      "('Manohar', 'Glynis') 0.2552190285561112\n",
      "('Manohar', 'Nicolas') 0.2988380031193535\n",
      "('Manohar', 'Paul') 0.3997790190279247\n",
      "('Tom', 'Kristian') 0.25425149071264164\n",
      "('Tom', 'Julian') 0.5945696223262629\n",
      "('Tom', 'Glynis') 0.0\n",
      "('Tom', 'Nicolas') 0.6350006350009525\n",
      "('Tom', 'Paul') 0.1433660037077356\n",
      "('Kristian', 'Julian') 0.37490212776608356\n",
      "('Kristian', 'Glynis') 0.5662449556745017\n",
      "('Kristian', 'Nicolas') 0.40039564797011623\n",
      "('Kristian', 'Paul') 0.46036288424556326\n",
      "('Julian', 'Glynis') 0.0\n",
      "('Julian', 'Nicolas') 0.9363291775690445\n",
      "('Julian', 'Paul') 0.0\n",
      "('Glynis', 'Nicolas') 0.0\n",
      "('Glynis', 'Paul') 0.6651901052377394\n",
      "('Nicolas', 'Paul') 0.0\n"
     ]
    }
   ],
   "source": [
    "subset_list = []\n",
    "cosim_result = []\n",
    "for user in range(2, 3):\n",
    "    for subset in itertools.combinations(users, user):\n",
    "        print(subset, cosim(wide_format_movies.loc[subset[0]],wide_format_movies.loc[subset[1]]))\n",
    "        subset_list.append(subset)\n",
    "        cosim_result.append(cosim(wide_format_movies.loc[subset[0]],wide_format_movies.loc[subset[1]]))"
   ]
  },
  {
   "cell_type": "code",
   "execution_count": 5,
   "metadata": {},
   "outputs": [],
   "source": [
    "cosim_result = pd.DataFrame(cosim_result)\n",
    "\n",
    "cosim_result['user1'], cosim_result['user2'] = np.nan, np.nan"
   ]
  },
  {
   "cell_type": "code",
   "execution_count": 6,
   "metadata": {},
   "outputs": [
    {
     "name": "stderr",
     "output_type": "stream",
     "text": [
      "/Users/glynismattheisen/anaconda3/lib/python3.6/site-packages/ipykernel_launcher.py:3: SettingWithCopyWarning: \n",
      "A value is trying to be set on a copy of a slice from a DataFrame\n",
      "\n",
      "See the caveats in the documentation: http://pandas.pydata.org/pandas-docs/stable/indexing.html#indexing-view-versus-copy\n",
      "  This is separate from the ipykernel package so we can avoid doing imports until\n",
      "/Users/glynismattheisen/anaconda3/lib/python3.6/site-packages/pandas/core/indexing.py:189: SettingWithCopyWarning: \n",
      "A value is trying to be set on a copy of a slice from a DataFrame\n",
      "\n",
      "See the caveats in the documentation: http://pandas.pydata.org/pandas-docs/stable/indexing.html#indexing-view-versus-copy\n",
      "  self._setitem_with_indexer(indexer, value)\n",
      "/Users/glynismattheisen/anaconda3/lib/python3.6/site-packages/ipykernel_launcher.py:2: SettingWithCopyWarning: \n",
      "A value is trying to be set on a copy of a slice from a DataFrame\n",
      "\n",
      "See the caveats in the documentation: http://pandas.pydata.org/pandas-docs/stable/indexing.html#indexing-view-versus-copy\n",
      "  \n"
     ]
    }
   ],
   "source": [
    "for i in range(0,55):\n",
    "    cosim_result['user1'][i] = subset_list[i][0]\n",
    "    cosim_result['user2'][i] = subset_list[i][1]"
   ]
  },
  {
   "cell_type": "code",
   "execution_count": 7,
   "metadata": {},
   "outputs": [
    {
     "data": {
      "text/html": [
       "<div>\n",
       "<style scoped>\n",
       "    .dataframe tbody tr th:only-of-type {\n",
       "        vertical-align: middle;\n",
       "    }\n",
       "\n",
       "    .dataframe tbody tr th {\n",
       "        vertical-align: top;\n",
       "    }\n",
       "\n",
       "    .dataframe thead th {\n",
       "        text-align: right;\n",
       "    }\n",
       "</style>\n",
       "<table border=\"1\" class=\"dataframe\">\n",
       "  <thead>\n",
       "    <tr style=\"text-align: right;\">\n",
       "      <th></th>\n",
       "      <th>cosim</th>\n",
       "      <th>user1</th>\n",
       "      <th>user2</th>\n",
       "    </tr>\n",
       "  </thead>\n",
       "  <tbody>\n",
       "    <tr>\n",
       "      <th>50</th>\n",
       "      <td>0.936329</td>\n",
       "      <td>Julian</td>\n",
       "      <td>Nicolas</td>\n",
       "    </tr>\n",
       "    <tr>\n",
       "      <th>53</th>\n",
       "      <td>0.665190</td>\n",
       "      <td>Glynis</td>\n",
       "      <td>Paul</td>\n",
       "    </tr>\n",
       "    <tr>\n",
       "      <th>19</th>\n",
       "      <td>0.645904</td>\n",
       "      <td>Matthias</td>\n",
       "      <td>Nick</td>\n",
       "    </tr>\n",
       "    <tr>\n",
       "      <th>43</th>\n",
       "      <td>0.635001</td>\n",
       "      <td>Tom</td>\n",
       "      <td>Nicolas</td>\n",
       "    </tr>\n",
       "    <tr>\n",
       "      <th>25</th>\n",
       "      <td>0.595726</td>\n",
       "      <td>Matthias</td>\n",
       "      <td>Nicolas</td>\n",
       "    </tr>\n",
       "  </tbody>\n",
       "</table>\n",
       "</div>"
      ],
      "text/plain": [
       "       cosim     user1    user2\n",
       "50  0.936329    Julian  Nicolas\n",
       "53  0.665190    Glynis     Paul\n",
       "19  0.645904  Matthias     Nick\n",
       "43  0.635001       Tom  Nicolas\n",
       "25  0.595726  Matthias  Nicolas"
      ]
     },
     "execution_count": 7,
     "metadata": {},
     "output_type": "execute_result"
    }
   ],
   "source": [
    "cosim_result.rename(columns = {0:'cosim'},inplace=True)\n",
    "cosim_result.sort_values(by='cosim',ascending=False,inplace=True)\n",
    "cosim_result.head(5)"
   ]
  },
  {
   "cell_type": "code",
   "execution_count": 8,
   "metadata": {
    "scrolled": true
   },
   "outputs": [],
   "source": [
    "result = []\n",
    "for n1 in users:\n",
    "    row = []\n",
    "    for n2 in users:\n",
    "        c = cosim(wide_format_movies.loc[n1], wide_format_movies.loc[n2])\n",
    "        row.append(c)\n",
    "    result.append(row)"
   ]
  },
  {
   "cell_type": "code",
   "execution_count": 11,
   "metadata": {
    "scrolled": false
   },
   "outputs": [],
   "source": [
    "cosim_df = pd.DataFrame(result, index = users,columns=users)"
   ]
  },
  {
   "cell_type": "code",
   "execution_count": 12,
   "metadata": {},
   "outputs": [
    {
     "data": {
      "text/plain": [
       "<matplotlib.axes._subplots.AxesSubplot at 0x1a14b8e048>"
      ]
     },
     "execution_count": 12,
     "metadata": {},
     "output_type": "execute_result"
    },
    {
     "data": {
      "image/png": "[encoded data removed]",
      "text/plain": [
       "<Figure size 432x288 with 2 Axes>"
      ]
     },
     "metadata": {},
     "output_type": "display_data"
    }
   ],
   "source": [
    "sns.heatmap(cosim_df,annot=True)"
   ]
  },
  {
   "cell_type": "code",
   "execution_count": null,
   "metadata": {},
   "outputs": [],
   "source": []
  }
 ],
 "metadata": {
  "kernelspec": {
   "display_name": "Python 3",
   "language": "python",
   "name": "python3"
  },
  "language_info": {
   "codemirror_mode": {
    "name": "ipython",
    "version": 3
   },
   "file_extension": ".py",
   "mimetype": "text/x-python",
   "name": "python",
   "nbconvert_exporter": "python",
   "pygments_lexer": "ipython3",
   "version": "3.6.5"
  }
 },
 "nbformat": 4,
 "nbformat_minor": 2
}
