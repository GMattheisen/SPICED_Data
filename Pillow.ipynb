{
 "cells": [
  {
   "cell_type": "code",
   "execution_count": 1,
   "metadata": {},
   "outputs": [],
   "source": [
    "from PIL import Image, ImageDraw, ImageFont, ImageFilter"
   ]
  },
  {
   "cell_type": "markdown",
   "metadata": {},
   "source": [
    "# Open image"
   ]
  },
  {
   "cell_type": "code",
   "execution_count": 59,
   "metadata": {},
   "outputs": [],
   "source": [
    "pigpen = Image.open('pigpen.PNG')\n",
    "# pigpen.show()"
   ]
  },
  {
   "cell_type": "markdown",
   "metadata": {},
   "source": [
    "# Create thumbnail"
   ]
  },
  {
   "cell_type": "markdown",
   "metadata": {},
   "source": [
    "thumb = pigpen.thumbnail((400, 400))\n",
    "thumb.Image.save('pigpen_thumbnail.PNG')\n",
    "pigpen_thumbnail = Image.open('pigpen_thumbnail.PNG')\n",
    "pigpen_thumbnail.show()"
   ]
  },
  {
   "cell_type": "markdown",
   "metadata": {},
   "source": [
    "# Filter image"
   ]
  },
  {
   "cell_type": "code",
   "execution_count": 3,
   "metadata": {},
   "outputs": [],
   "source": [
    "# contour\n",
    "CONTOUR_pigpen = pigpen.filter(ImageFilter.CONTOUR)\n",
    "CONTOUR_pigpen.show()"
   ]
  },
  {
   "cell_type": "code",
   "execution_count": 8,
   "metadata": {},
   "outputs": [],
   "source": [
    "# blur\n",
    "BLUR_pigpen = pigpen.filter(ImageFilter.GaussianBlur(radius=20))\n",
    "BLUR_pigpen.show()"
   ]
  },
  {
   "cell_type": "markdown",
   "metadata": {},
   "source": [
    "# Crop"
   ]
  },
  {
   "cell_type": "code",
   "execution_count": 11,
   "metadata": {},
   "outputs": [],
   "source": [
    "# Crop rectangle, as a (left, upper, right, lower)-tuple\n",
    "blep = (500, 1500, 2500, 2500)\n",
    "blep = pigpen.crop(blep)\n",
    "blep.show()"
   ]
  },
  {
   "cell_type": "markdown",
   "metadata": {},
   "source": [
    "# Transform"
   ]
  },
  {
   "cell_type": "code",
   "execution_count": 13,
   "metadata": {},
   "outputs": [],
   "source": [
    "pigpen_flip = pigpen.transpose(Image.FLIP_LEFT_RIGHT)\n",
    "pigpen_flip.save('pigpen_flip.PNG')\n",
    "pigpen_flip.show()"
   ]
  },
  {
   "cell_type": "markdown",
   "metadata": {},
   "source": [
    "# Draw on images"
   ]
  },
  {
   "cell_type": "code",
   "execution_count": 60,
   "metadata": {},
   "outputs": [],
   "source": [
    "img_draw = ImageDraw.Draw(pigpen)\n",
    "font = ImageFont.truetype('FreeSerif.ttf', 500)\n",
    "img_draw.rectangle((4000, 1000, 0, 500), outline='red', fill='black')\n",
    "img_draw.text((200, 500), 'Hello World', font =font, fill='white')\n",
    "pigpen.save('drawn_image.png')"
   ]
  },
  {
   "cell_type": "code",
   "execution_count": 61,
   "metadata": {},
   "outputs": [],
   "source": [
    "pigpen.show()"
   ]
  },
  {
   "cell_type": "code",
   "execution_count": null,
   "metadata": {},
   "outputs": [],
   "source": []
  }
 ],
 "metadata": {
  "kernelspec": {
   "display_name": "Python 3",
   "language": "python",
   "name": "python3"
  },
  "language_info": {
   "codemirror_mode": {
    "name": "ipython",
    "version": 3
   },
   "file_extension": ".py",
   "mimetype": "text/x-python",
   "name": "python",
   "nbconvert_exporter": "python",
   "pygments_lexer": "ipython3",
   "version": "3.6.5"
  }
 },
 "nbformat": 4,
 "nbformat_minor": 2
}
