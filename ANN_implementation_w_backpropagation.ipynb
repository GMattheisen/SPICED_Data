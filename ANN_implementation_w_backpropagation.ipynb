{
 "cells": [
  {
   "cell_type": "code",
   "execution_count": 4,
   "metadata": {},
   "outputs": [],
   "source": [
    "import numpy as np\n",
    "from neural_network import sigmoid, feed_forward, loss\n",
    "from neural_network import X, get_weights\n",
    "\n",
    "weights = get_weights()\n",
    "\n",
    "# test for sigmoid function\n",
    "a = np.array([-10.0, -1.0, 0.0, 1.0, 10.0])\n",
    "expected = np.array([0.0, 0.27, 0.5, 0.73, 1.0])\n",
    "assert np.all(sigmoid(a).round(2) == expected)\n",
    "\n",
    "# test the weights\n",
    "assert weights[0].shape == (3, 2)\n",
    "assert weights[1].shape == (3, 1)\n",
    "\n",
    "# test the feed-forward step\n",
    "out1, out2 = feed_forward(X, weights)\n",
    "assert out1.shape == (50, 2)\n",
    "assert out2.shape == (50, 1)\n",
    "\n",
    "# test the log-loss function\n",
    "ytrue = np.array([0.0 , 0.0 , 1.0 , 1.0])\n",
    "ypred = np.array([0.01, 0.99, 0.01, 0.99])\n",
    "expected = np.array([0.01, 4.61, 4.61, 0.01])\n",
    "assert np.all(loss(ytrue, ypred).round(2) == expected)\n",
    "\n",
    "# test the feed-forward step with values that give a known result\n",
    "Xref = np.array([[1.0, 2.0, 1.0]])\n",
    "wref = [np.array([[1.0, -1.0],\n",
    "                  [2.0, -2.0],\n",
    "                  [0.0,  0.0]\n",
    "                    ]),\n",
    "           np.array([[1.0], [-1.0], [0.5]])\n",
    "          ]\n",
    "out1, out2 = feed_forward(Xref, wref)\n",
    "assert np.all(out1.round(2) == np.array([[0.99, 0.01]]))\n",
    "assert np.all(out2.round(2) == np.array([[0.82]]))"
   ]
  }
 ],
 "metadata": {
  "kernelspec": {
   "display_name": "Python 3",
   "language": "python",
   "name": "python3"
  },
  "language_info": {
   "codemirror_mode": {
    "name": "ipython",
    "version": 3
   },
   "file_extension": ".py",
   "mimetype": "text/x-python",
   "name": "python",
   "nbconvert_exporter": "python",
   "pygments_lexer": "ipython3",
   "version": "3.6.5"
  }
 },
 "nbformat": 4,
 "nbformat_minor": 2
}
